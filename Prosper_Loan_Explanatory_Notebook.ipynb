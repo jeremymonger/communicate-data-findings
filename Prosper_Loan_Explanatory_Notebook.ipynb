{
 "cells": [
  {
   "cell_type": "markdown",
   "metadata": {
    "slideshow": {
     "slide_type": "slide"
    }
   },
   "source": [
    "# Risk and Reward: The Prosper Loan Dataset\n",
    "## Jeremy Monger"
   ]
  },
  {
   "cell_type": "markdown",
   "metadata": {
    "slideshow": {
     "slide_type": "slide"
    }
   },
   "source": [
    "## Investigation Overview\n",
    "\n",
    "Have you ever considered investing in peer-to-peer lending? Prosper is a website that allows to invest amounts of as little $25 in a variety of loans. But what are the risks? The rewards? What are some things we should consider as we chose which loans to invest in?\n",
    "\n",
    "## Dataset Overview\n",
    "\n",
    "We will be using the Prosper Loan Dataset in this presentation. While this dataset contains a ton of rich information about loans on its platform, we will be focusing on only a few: Rating, Loan Origination Date, Loan Status, Borrower APR, and if the borrower is a homeowner. "
   ]
  },
  {
   "cell_type": "markdown",
   "metadata": {
    "slideshow": {
     "slide_type": "slide"
    }
   },
   "source": [
    "## Disclosure:\n",
    "\n",
    "A few design have been made that should be noted.\n",
    "\n",
    "1. In different time periods, Prosper has used two different grading systems : 'Credit Grade' and 'Prosper Rating'. As these are very similiar, we have decided to treat as a single 'Rating'.\n",
    "2. At the time this loan data was collected, a significant portion of the loans were still ongoing. As we have no way to know what the eventual outcomes of these were, we have chosen to focus only on loans with a Completed, Chargedoff, or Defaulted Status.\n",
    "3. Our dataset contained duplicate loans, missing values, and other inconsistencies. We had to remove these."
   ]
  },
  {
   "cell_type": "code",
   "execution_count": 1,
   "metadata": {
    "slideshow": {
     "slide_type": "skip"
    }
   },
   "outputs": [],
   "source": [
    "# import all packages and set plots to be embedded inline\n",
    "import numpy as np\n",
    "import pandas as pd\n",
    "import matplotlib.pyplot as plt\n",
    "import seaborn as sns\n",
    "from pandas.api.types import CategoricalDtype\n",
    "%matplotlib inline\n",
    "\n",
    "# suppress warnings from final output\n",
    "import warnings\n",
    "warnings.simplefilter(\"ignore\")"
   ]
  },
  {
   "cell_type": "code",
   "execution_count": 2,
   "metadata": {
    "slideshow": {
     "slide_type": "skip"
    }
   },
   "outputs": [],
   "source": [
    "# load in the dataset into a pandas dataframe\n",
    "prosper_loans = pd.read_csv('prosperLoanData.csv')"
   ]
  },
  {
   "cell_type": "code",
   "execution_count": 3,
   "metadata": {
    "slideshow": {
     "slide_type": "skip"
    }
   },
   "outputs": [
    {
     "name": "stdout",
     "output_type": "stream",
     "text": [
      "<class 'pandas.core.frame.DataFrame'>\n",
      "RangeIndex: 113937 entries, 0 to 113936\n",
      "Data columns (total 7 columns):\n",
      "ListingKey               113937 non-null object\n",
      "LoanOriginationDate      113937 non-null object\n",
      "LoanStatus               113937 non-null object\n",
      "BorrowerAPR              113912 non-null float64\n",
      "CreditGrade              28953 non-null object\n",
      "ProsperRating (Alpha)    84853 non-null object\n",
      "IsBorrowerHomeowner      113937 non-null bool\n",
      "dtypes: bool(1), float64(1), object(5)\n",
      "memory usage: 5.3+ MB\n"
     ]
    }
   ],
   "source": [
    "# Only have used columns\n",
    "df = prosper_loans[['ListingKey', 'LoanOriginationDate', 'LoanStatus', 'BorrowerAPR', 'CreditGrade',\n",
    "                   'ProsperRating (Alpha)', 'IsBorrowerHomeowner']]\n",
    "\n",
    "df.info()"
   ]
  },
  {
   "cell_type": "code",
   "execution_count": 4,
   "metadata": {
    "slideshow": {
     "slide_type": "skip"
    }
   },
   "outputs": [
    {
     "data": {
      "text/html": [
       "<div>\n",
       "<style scoped>\n",
       "    .dataframe tbody tr th:only-of-type {\n",
       "        vertical-align: middle;\n",
       "    }\n",
       "\n",
       "    .dataframe tbody tr th {\n",
       "        vertical-align: top;\n",
       "    }\n",
       "\n",
       "    .dataframe thead th {\n",
       "        text-align: right;\n",
       "    }\n",
       "</style>\n",
       "<table border=\"1\" class=\"dataframe\">\n",
       "  <thead>\n",
       "    <tr style=\"text-align: right;\">\n",
       "      <th></th>\n",
       "      <th>ListingKey</th>\n",
       "      <th>LoanOriginationDate</th>\n",
       "      <th>LoanStatus</th>\n",
       "      <th>BorrowerAPR</th>\n",
       "      <th>CreditGrade</th>\n",
       "      <th>ProsperRating (Alpha)</th>\n",
       "      <th>IsBorrowerHomeowner</th>\n",
       "    </tr>\n",
       "  </thead>\n",
       "  <tbody>\n",
       "  </tbody>\n",
       "</table>\n",
       "</div>"
      ],
      "text/plain": [
       "Empty DataFrame\n",
       "Columns: [ListingKey, LoanOriginationDate, LoanStatus, BorrowerAPR, CreditGrade, ProsperRating (Alpha), IsBorrowerHomeowner]\n",
       "Index: []"
      ]
     },
     "execution_count": 4,
     "metadata": {},
     "output_type": "execute_result"
    }
   ],
   "source": [
    "#Remove duplicates\n",
    "df.drop_duplicates(subset='ListingKey', inplace=True)\n",
    "df[df.ListingKey.duplicated()]"
   ]
  },
  {
   "cell_type": "code",
   "execution_count": 5,
   "metadata": {
    "slideshow": {
     "slide_type": "skip"
    }
   },
   "outputs": [
    {
     "data": {
      "text/plain": [
       "C     23745\n",
       "B     19757\n",
       "D     19323\n",
       "A     17705\n",
       "E     13005\n",
       "HR    10425\n",
       "AA     8834\n",
       "Name: Rating, dtype: int64"
      ]
     },
     "execution_count": 5,
     "metadata": {},
     "output_type": "execute_result"
    }
   ],
   "source": [
    "# Combine CreditGrade and ProsperRating (Alpha)\n",
    "df['Rating'] = df['ProsperRating (Alpha)'].fillna(df['CreditGrade'])\n",
    "df.dropna(subset = ['Rating'], inplace=True)\n",
    "df = df[df.Rating != \"NC\"]\n",
    "df.Rating.value_counts()"
   ]
  },
  {
   "cell_type": "code",
   "execution_count": 6,
   "metadata": {},
   "outputs": [
    {
     "data": {
      "text/plain": [
       "Completed     37897\n",
       "Chargedoff    11951\n",
       "Defaulted      4951\n",
       "Name: LoanStatus, dtype: int64"
      ]
     },
     "execution_count": 6,
     "metadata": {},
     "output_type": "execute_result"
    }
   ],
   "source": [
    "#Drop in progress loans\n",
    "df = df.loc[df.LoanStatus.isin(['Chargedoff','Completed', 'Defaulted'])]\n",
    "df.LoanStatus.value_counts()"
   ]
  },
  {
   "cell_type": "code",
   "execution_count": 7,
   "metadata": {},
   "outputs": [
    {
     "name": "stdout",
     "output_type": "stream",
     "text": [
      "<class 'pandas.core.frame.DataFrame'>\n",
      "Int64Index: 54775 entries, 0 to 113935\n",
      "Data columns (total 8 columns):\n",
      "ListingKey               54775 non-null object\n",
      "LoanOriginationDate      54775 non-null object\n",
      "LoanStatus               54775 non-null object\n",
      "BorrowerAPR              54775 non-null float64\n",
      "CreditGrade              28783 non-null object\n",
      "ProsperRating (Alpha)    25992 non-null object\n",
      "IsBorrowerHomeowner      54775 non-null bool\n",
      "Rating                   54775 non-null object\n",
      "dtypes: bool(1), float64(1), object(6)\n",
      "memory usage: 3.4+ MB\n"
     ]
    }
   ],
   "source": [
    "#Remove a couple missing APRs\n",
    "df.dropna(subset = ['BorrowerAPR'], inplace=True)\n",
    "df.info()"
   ]
  },
  {
   "cell_type": "code",
   "execution_count": 8,
   "metadata": {},
   "outputs": [
    {
     "name": "stdout",
     "output_type": "stream",
     "text": [
      "<class 'pandas.core.frame.DataFrame'>\n",
      "Int64Index: 54775 entries, 0 to 113935\n",
      "Data columns (total 8 columns):\n",
      "ListingKey               54775 non-null object\n",
      "LoanOriginationDate      54775 non-null datetime64[ns]\n",
      "LoanStatus               54775 non-null category\n",
      "BorrowerAPR              54775 non-null float64\n",
      "CreditGrade              28783 non-null object\n",
      "ProsperRating (Alpha)    25992 non-null object\n",
      "IsBorrowerHomeowner      54775 non-null bool\n",
      "Rating                   54775 non-null category\n",
      "dtypes: bool(1), category(2), datetime64[ns](1), float64(1), object(3)\n",
      "memory usage: 2.7+ MB\n"
     ]
    }
   ],
   "source": [
    "# Correct column types\n",
    "\n",
    "#Date\n",
    "df['LoanOriginationDate'] = df['LoanOriginationDate'].apply(pd.to_datetime)\n",
    "\n",
    "#Rating\n",
    "rating_cats = CategoricalDtype(categories=['AA','A', 'B','C','D','E','HR'], ordered=True)\n",
    "df['Rating'] = df['Rating'].astype(rating_cats)\n",
    "\n",
    "#LoanStatus\n",
    "status_cats = CategoricalDtype(categories=['Completed', 'Chargedoff', 'Defaulted'], ordered=True)\n",
    "df['LoanStatus'] = df['LoanStatus'].astype(status_cats)\n",
    "\n",
    "df.info()"
   ]
  },
  {
   "cell_type": "markdown",
   "metadata": {
    "slideshow": {
     "slide_type": "notes"
    }
   },
   "source": [
    "> Note that the above cells have been set as \"Skip\"-type slides. That means\n",
    "that when the notebook is rendered as http slides, those cells won't show up."
   ]
  },
  {
   "cell_type": "markdown",
   "metadata": {
    "slideshow": {
     "slide_type": "slide"
    }
   },
   "source": [
    "## (Visualization 1)\n",
    "\n",
    "> Write a comment about your visualization here. The visualization should be in\n",
    "the next cell, as a sub-slide type. Make sure your visualizations are polished!"
   ]
  },
  {
   "cell_type": "code",
   "execution_count": null,
   "metadata": {
    "slideshow": {
     "slide_type": "subslide"
    }
   },
   "outputs": [],
   "source": []
  },
  {
   "cell_type": "markdown",
   "metadata": {
    "collapsed": true,
    "slideshow": {
     "slide_type": "slide"
    }
   },
   "source": [
    "## (Visualization 2)\n",
    "\n",
    "> You should have at least three visualizations in your presentation,\n",
    "but feel free to add more if you'd like!"
   ]
  },
  {
   "cell_type": "code",
   "execution_count": null,
   "metadata": {
    "slideshow": {
     "slide_type": "subslide"
    }
   },
   "outputs": [],
   "source": []
  },
  {
   "cell_type": "markdown",
   "metadata": {
    "slideshow": {
     "slide_type": "slide"
    }
   },
   "source": [
    "## (Visualization 3)\n",
    "\n"
   ]
  },
  {
   "cell_type": "code",
   "execution_count": null,
   "metadata": {
    "slideshow": {
     "slide_type": "subslide"
    }
   },
   "outputs": [],
   "source": []
  },
  {
   "cell_type": "markdown",
   "metadata": {
    "slideshow": {
     "slide_type": "notes"
    }
   },
   "source": [
    "> Once you're ready to finish your presentation, check your output by using\n",
    "nbconvert to export the notebook and set up a server for the slides. From the\n",
    "terminal or command line, use the following expression:\n",
    "> > `jupyter nbconvert <file_name>.ipynb --to slides --post serve --template output_toggle`\n",
    "\n",
    "> This should open a tab in your web browser where you can scroll through your\n",
    "presentation. Sub-slides can be accessed by pressing 'down' when viewing its parent\n",
    "slide. Make sure you remove all of the quote-formatted guide notes like this one\n",
    "before you finish your presentation!"
   ]
  },
  {
   "cell_type": "code",
   "execution_count": null,
   "metadata": {},
   "outputs": [],
   "source": []
  }
 ],
 "metadata": {
  "celltoolbar": "Slideshow",
  "kernelspec": {
   "display_name": "Python 3",
   "language": "python",
   "name": "python3"
  },
  "language_info": {
   "codemirror_mode": {
    "name": "ipython",
    "version": 3
   },
   "file_extension": ".py",
   "mimetype": "text/x-python",
   "name": "python",
   "nbconvert_exporter": "python",
   "pygments_lexer": "ipython3",
   "version": "3.7.1"
  }
 },
 "nbformat": 4,
 "nbformat_minor": 2
}
