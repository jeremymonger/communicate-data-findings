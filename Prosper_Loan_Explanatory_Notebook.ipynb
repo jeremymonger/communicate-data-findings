{
 "cells": [
  {
   "cell_type": "markdown",
   "metadata": {
    "slideshow": {
     "slide_type": "slide"
    }
   },
   "source": [
    "# Risk and Reward: The Prosper Loan Dataset\n",
    "## Jeremy Monger"
   ]
  },
  {
   "cell_type": "markdown",
   "metadata": {
    "slideshow": {
     "slide_type": "slide"
    }
   },
   "source": [
    "## Investigation Overview\n",
    "\n",
    "Have you ever considered investing in peer-to-peer lending? Prosper is a website that allows to invest amounts of as little $25 in a variety of loans. But what are the risks? The rewards? What are some things we should consider as we chose which loans to invest in?\n",
    "\n",
    "## Dataset Overview\n",
    "\n",
    "We will be using the Prosper Loan Dataset in this presentation. While this dataset contains a ton of rich information about loans on its platform, we will be focusing on only a few: Rating, Loan Origination Date, Loan Status, Borrower APR, and if the borrower is a homeowner. "
   ]
  },
  {
   "cell_type": "markdown",
   "metadata": {
    "slideshow": {
     "slide_type": "slide"
    }
   },
   "source": [
    "## Disclosure:\n",
    "\n",
    "A few design have been made that should be noted.\n",
    "\n",
    "1. In different time periods, Prosper has used two different grading systems : 'Credit Grade' and 'Prosper Rating'. As these are very similiar, we have decided to treat as a single 'Rating'.\n",
    "2. At the time this loan data was collected, a significant portion of the loans were still ongoing. As we have no way to know what the eventual outcomes of these were, we have chosen to focus only on loans with a Completed, Chargedoff, or Defaulted Status.\n",
    "3. Our dataset contained duplicate loans, missing values, and other inconsistencies. We had to remove these."
   ]
  },
  {
   "cell_type": "code",
   "execution_count": 1,
   "metadata": {
    "slideshow": {
     "slide_type": "skip"
    }
   },
   "outputs": [],
   "source": [
    "# import all packages and set plots to be embedded inline\n",
    "import numpy as np\n",
    "import pandas as pd\n",
    "import matplotlib.pyplot as plt\n",
    "import seaborn as sns\n",
    "from pandas.api.types import CategoricalDtype\n",
    "%matplotlib inline\n",
    "\n",
    "# Set Base Color\n",
    "base_color = sns.color_palette()[0]\n",
    "\n",
    "# suppress warnings from final output\n",
    "import warnings\n",
    "warnings.simplefilter(\"ignore\")"
   ]
  },
  {
   "cell_type": "code",
   "execution_count": 2,
   "metadata": {
    "slideshow": {
     "slide_type": "skip"
    }
   },
   "outputs": [],
   "source": [
    "# load in the dataset into a pandas dataframe\n",
    "prosper_loans = pd.read_csv('prosperLoanData.csv')"
   ]
  },
  {
   "cell_type": "code",
   "execution_count": 3,
   "metadata": {
    "slideshow": {
     "slide_type": "skip"
    }
   },
   "outputs": [
    {
     "name": "stdout",
     "output_type": "stream",
     "text": [
      "<class 'pandas.core.frame.DataFrame'>\n",
      "RangeIndex: 113937 entries, 0 to 113936\n",
      "Data columns (total 7 columns):\n",
      "ListingKey               113937 non-null object\n",
      "LoanOriginationDate      113937 non-null object\n",
      "LoanStatus               113937 non-null object\n",
      "BorrowerAPR              113912 non-null float64\n",
      "CreditGrade              28953 non-null object\n",
      "ProsperRating (Alpha)    84853 non-null object\n",
      "IsBorrowerHomeowner      113937 non-null bool\n",
      "dtypes: bool(1), float64(1), object(5)\n",
      "memory usage: 5.3+ MB\n"
     ]
    }
   ],
   "source": [
    "# Only have used columns\n",
    "df = prosper_loans[['ListingKey', 'LoanOriginationDate', 'LoanStatus', 'BorrowerAPR', 'CreditGrade',\n",
    "                   'ProsperRating (Alpha)', 'IsBorrowerHomeowner']]\n",
    "\n",
    "df.info()"
   ]
  },
  {
   "cell_type": "code",
   "execution_count": 4,
   "metadata": {
    "slideshow": {
     "slide_type": "skip"
    }
   },
   "outputs": [
    {
     "data": {
      "text/html": [
       "<div>\n",
       "<style scoped>\n",
       "    .dataframe tbody tr th:only-of-type {\n",
       "        vertical-align: middle;\n",
       "    }\n",
       "\n",
       "    .dataframe tbody tr th {\n",
       "        vertical-align: top;\n",
       "    }\n",
       "\n",
       "    .dataframe thead th {\n",
       "        text-align: right;\n",
       "    }\n",
       "</style>\n",
       "<table border=\"1\" class=\"dataframe\">\n",
       "  <thead>\n",
       "    <tr style=\"text-align: right;\">\n",
       "      <th></th>\n",
       "      <th>ListingKey</th>\n",
       "      <th>LoanOriginationDate</th>\n",
       "      <th>LoanStatus</th>\n",
       "      <th>BorrowerAPR</th>\n",
       "      <th>CreditGrade</th>\n",
       "      <th>ProsperRating (Alpha)</th>\n",
       "      <th>IsBorrowerHomeowner</th>\n",
       "    </tr>\n",
       "  </thead>\n",
       "  <tbody>\n",
       "  </tbody>\n",
       "</table>\n",
       "</div>"
      ],
      "text/plain": [
       "Empty DataFrame\n",
       "Columns: [ListingKey, LoanOriginationDate, LoanStatus, BorrowerAPR, CreditGrade, ProsperRating (Alpha), IsBorrowerHomeowner]\n",
       "Index: []"
      ]
     },
     "execution_count": 4,
     "metadata": {},
     "output_type": "execute_result"
    }
   ],
   "source": [
    "#Remove duplicates\n",
    "df.drop_duplicates(subset='ListingKey', inplace=True)\n",
    "df[df.ListingKey.duplicated()]"
   ]
  },
  {
   "cell_type": "code",
   "execution_count": 5,
   "metadata": {
    "slideshow": {
     "slide_type": "skip"
    }
   },
   "outputs": [
    {
     "data": {
      "text/plain": [
       "C     23745\n",
       "B     19757\n",
       "D     19323\n",
       "A     17705\n",
       "E     13005\n",
       "HR    10425\n",
       "AA     8834\n",
       "Name: Rating, dtype: int64"
      ]
     },
     "execution_count": 5,
     "metadata": {},
     "output_type": "execute_result"
    }
   ],
   "source": [
    "# Combine CreditGrade and ProsperRating (Alpha)\n",
    "df['Rating'] = df['ProsperRating (Alpha)'].fillna(df['CreditGrade'])\n",
    "df.dropna(subset = ['Rating'], inplace=True)\n",
    "df = df[df.Rating != \"NC\"]\n",
    "df.Rating.value_counts()"
   ]
  },
  {
   "cell_type": "code",
   "execution_count": 6,
   "metadata": {
    "slideshow": {
     "slide_type": "skip"
    }
   },
   "outputs": [
    {
     "data": {
      "text/plain": [
       "Completed     37897\n",
       "Chargedoff    11951\n",
       "Defaulted      4951\n",
       "Name: LoanStatus, dtype: int64"
      ]
     },
     "execution_count": 6,
     "metadata": {},
     "output_type": "execute_result"
    }
   ],
   "source": [
    "#Drop in progress loans\n",
    "df = df.loc[df.LoanStatus.isin(['Chargedoff','Completed', 'Defaulted'])]\n",
    "df.LoanStatus.value_counts()"
   ]
  },
  {
   "cell_type": "code",
   "execution_count": 7,
   "metadata": {
    "slideshow": {
     "slide_type": "skip"
    }
   },
   "outputs": [
    {
     "name": "stdout",
     "output_type": "stream",
     "text": [
      "<class 'pandas.core.frame.DataFrame'>\n",
      "Int64Index: 54775 entries, 0 to 113935\n",
      "Data columns (total 8 columns):\n",
      "ListingKey               54775 non-null object\n",
      "LoanOriginationDate      54775 non-null object\n",
      "LoanStatus               54775 non-null object\n",
      "BorrowerAPR              54775 non-null float64\n",
      "CreditGrade              28783 non-null object\n",
      "ProsperRating (Alpha)    25992 non-null object\n",
      "IsBorrowerHomeowner      54775 non-null bool\n",
      "Rating                   54775 non-null object\n",
      "dtypes: bool(1), float64(1), object(6)\n",
      "memory usage: 3.4+ MB\n"
     ]
    }
   ],
   "source": [
    "#Remove a couple missing APRs\n",
    "df.dropna(subset = ['BorrowerAPR'], inplace=True)\n",
    "df.info()"
   ]
  },
  {
   "cell_type": "code",
   "execution_count": 8,
   "metadata": {
    "slideshow": {
     "slide_type": "skip"
    }
   },
   "outputs": [
    {
     "name": "stdout",
     "output_type": "stream",
     "text": [
      "<class 'pandas.core.frame.DataFrame'>\n",
      "Int64Index: 54775 entries, 0 to 113935\n",
      "Data columns (total 8 columns):\n",
      "ListingKey               54775 non-null object\n",
      "LoanOriginationDate      54775 non-null datetime64[ns]\n",
      "LoanStatus               54775 non-null category\n",
      "BorrowerAPR              54775 non-null float64\n",
      "CreditGrade              28783 non-null object\n",
      "ProsperRating (Alpha)    25992 non-null object\n",
      "IsBorrowerHomeowner      54775 non-null bool\n",
      "Rating                   54775 non-null category\n",
      "dtypes: bool(1), category(2), datetime64[ns](1), float64(1), object(3)\n",
      "memory usage: 2.7+ MB\n"
     ]
    }
   ],
   "source": [
    "# Correct column types\n",
    "\n",
    "#Date\n",
    "df['LoanOriginationDate'] = df['LoanOriginationDate'].apply(pd.to_datetime)\n",
    "\n",
    "#Rating\n",
    "rating_cats = CategoricalDtype(categories=['AA','A', 'B','C','D','E','HR'], ordered=True)\n",
    "df['Rating'] = df['Rating'].astype(rating_cats)\n",
    "\n",
    "#LoanStatus\n",
    "status_cats = CategoricalDtype(categories=['Completed', 'Chargedoff', 'Defaulted'], ordered=True)\n",
    "df['LoanStatus'] = df['LoanStatus'].astype(status_cats)\n",
    "\n",
    "df.info()"
   ]
  },
  {
   "cell_type": "code",
   "execution_count": 9,
   "metadata": {
    "slideshow": {
     "slide_type": "skip"
    }
   },
   "outputs": [
    {
     "data": {
      "text/html": [
       "<div>\n",
       "<style scoped>\n",
       "    .dataframe tbody tr th:only-of-type {\n",
       "        vertical-align: middle;\n",
       "    }\n",
       "\n",
       "    .dataframe tbody tr th {\n",
       "        vertical-align: top;\n",
       "    }\n",
       "\n",
       "    .dataframe thead th {\n",
       "        text-align: right;\n",
       "    }\n",
       "</style>\n",
       "<table border=\"1\" class=\"dataframe\">\n",
       "  <thead>\n",
       "    <tr style=\"text-align: right;\">\n",
       "      <th></th>\n",
       "      <th>ListingKey</th>\n",
       "      <th>LoanOriginationDate</th>\n",
       "      <th>LoanStatus</th>\n",
       "      <th>BorrowerAPR</th>\n",
       "      <th>CreditGrade</th>\n",
       "      <th>ProsperRating (Alpha)</th>\n",
       "      <th>IsBorrowerHomeowner</th>\n",
       "      <th>Rating</th>\n",
       "      <th>Completed</th>\n",
       "    </tr>\n",
       "  </thead>\n",
       "  <tbody>\n",
       "    <tr>\n",
       "      <th>51638</th>\n",
       "      <td>5EE133871621380618B6D7E</td>\n",
       "      <td>2007-04-26</td>\n",
       "      <td>Completed</td>\n",
       "      <td>0.13202</td>\n",
       "      <td>A</td>\n",
       "      <td>NaN</td>\n",
       "      <td>False</td>\n",
       "      <td>A</td>\n",
       "      <td>1</td>\n",
       "    </tr>\n",
       "    <tr>\n",
       "      <th>9082</th>\n",
       "      <td>02D43496909141656305983</td>\n",
       "      <td>2010-10-27</td>\n",
       "      <td>Completed</td>\n",
       "      <td>0.12916</td>\n",
       "      <td>NaN</td>\n",
       "      <td>A</td>\n",
       "      <td>True</td>\n",
       "      <td>A</td>\n",
       "      <td>1</td>\n",
       "    </tr>\n",
       "    <tr>\n",
       "      <th>105568</th>\n",
       "      <td>864D33793407890548FE03B</td>\n",
       "      <td>2007-01-31</td>\n",
       "      <td>Completed</td>\n",
       "      <td>0.16617</td>\n",
       "      <td>D</td>\n",
       "      <td>NaN</td>\n",
       "      <td>True</td>\n",
       "      <td>D</td>\n",
       "      <td>1</td>\n",
       "    </tr>\n",
       "    <tr>\n",
       "      <th>21450</th>\n",
       "      <td>4C0D3383524727165E1C0F0</td>\n",
       "      <td>2007-03-14</td>\n",
       "      <td>Completed</td>\n",
       "      <td>0.08928</td>\n",
       "      <td>AA</td>\n",
       "      <td>NaN</td>\n",
       "      <td>False</td>\n",
       "      <td>AA</td>\n",
       "      <td>1</td>\n",
       "    </tr>\n",
       "    <tr>\n",
       "      <th>77602</th>\n",
       "      <td>E72D3574356361918E2161E</td>\n",
       "      <td>2013-04-08</td>\n",
       "      <td>Completed</td>\n",
       "      <td>0.09837</td>\n",
       "      <td>NaN</td>\n",
       "      <td>AA</td>\n",
       "      <td>False</td>\n",
       "      <td>AA</td>\n",
       "      <td>1</td>\n",
       "    </tr>\n",
       "    <tr>\n",
       "      <th>4620</th>\n",
       "      <td>29C0357676119648189C337</td>\n",
       "      <td>2013-05-02</td>\n",
       "      <td>Completed</td>\n",
       "      <td>0.29341</td>\n",
       "      <td>NaN</td>\n",
       "      <td>D</td>\n",
       "      <td>False</td>\n",
       "      <td>D</td>\n",
       "      <td>1</td>\n",
       "    </tr>\n",
       "  </tbody>\n",
       "</table>\n",
       "</div>"
      ],
      "text/plain": [
       "                     ListingKey LoanOriginationDate LoanStatus  BorrowerAPR  \\\n",
       "51638   5EE133871621380618B6D7E          2007-04-26  Completed      0.13202   \n",
       "9082    02D43496909141656305983          2010-10-27  Completed      0.12916   \n",
       "105568  864D33793407890548FE03B          2007-01-31  Completed      0.16617   \n",
       "21450   4C0D3383524727165E1C0F0          2007-03-14  Completed      0.08928   \n",
       "77602   E72D3574356361918E2161E          2013-04-08  Completed      0.09837   \n",
       "4620    29C0357676119648189C337          2013-05-02  Completed      0.29341   \n",
       "\n",
       "       CreditGrade ProsperRating (Alpha)  IsBorrowerHomeowner Rating  \\\n",
       "51638            A                   NaN                False      A   \n",
       "9082           NaN                     A                 True      A   \n",
       "105568           D                   NaN                 True      D   \n",
       "21450           AA                   NaN                False     AA   \n",
       "77602          NaN                    AA                False     AA   \n",
       "4620           NaN                     D                False      D   \n",
       "\n",
       "        Completed  \n",
       "51638           1  \n",
       "9082            1  \n",
       "105568          1  \n",
       "21450           1  \n",
       "77602           1  \n",
       "4620            1  "
      ]
     },
     "execution_count": 9,
     "metadata": {},
     "output_type": "execute_result"
    }
   ],
   "source": [
    "# Add \"Completed\" column\n",
    "df['Completed'] = df['Completed'] = np.where(df['LoanStatus'] =='Completed', 1, 0)\n",
    "\n",
    "df.sample(6)"
   ]
  },
  {
   "cell_type": "markdown",
   "metadata": {
    "slideshow": {
     "slide_type": "notes"
    }
   },
   "source": [
    "> Note that the above cells have been set as \"Skip\"-type slides. That means\n",
    "that when the notebook is rendered as http slides, those cells won't show up."
   ]
  },
  {
   "cell_type": "markdown",
   "metadata": {
    "slideshow": {
     "slide_type": "slide"
    }
   },
   "source": [
    "## When was this data collected?\n",
    "\n",
    "Our data ranges from April 25th, 2006 to February 21st, 2014. However, there is a slight problem... we have a gap in our data! As Prosper went through the process of registering with the SEC, they entered a \"quit period\" from October 15th, 2008 until July 13th, 2009, where they stopped allowing loans.\n",
    "\n",
    "This is unfortunate, especially as those dates overlap The Great Recession. But it is something we will need to be aware of as we move forward."
   ]
  },
  {
   "cell_type": "code",
   "execution_count": 10,
   "metadata": {
    "slideshow": {
     "slide_type": "subslide"
    }
   },
   "outputs": [
    {
     "data": {
      "image/png": "[encoded data removed]",
      "text/plain": [
       "<Figure size 432x288 with 1 Axes>"
      ]
     },
     "metadata": {
      "needs_background": "light"
     },
     "output_type": "display_data"
    }
   ],
   "source": [
    "df.LoanOriginationDate.hist(bins=32)\n",
    "plt.title('When Are These Loans From?')\n",
    "plt.xlabel('Loan Origination Date')\n",
    "plt.ylabel('Count');"
   ]
  },
  {
   "cell_type": "markdown",
   "metadata": {
    "collapsed": true,
    "slideshow": {
     "slide_type": "slide"
    }
   },
   "source": [
    "## How do loans tend to end?\n",
    "\n",
    "The majority of loans are successfully completed, with a smaller amount charged-off and even less defaulted. This is good. While there is definite risk of a borrower failing to pay, *most* do. "
   ]
  },
  {
   "cell_type": "code",
   "execution_count": 11,
   "metadata": {
    "slideshow": {
     "slide_type": "subslide"
    }
   },
   "outputs": [
    {
     "data": {
      "image/png": "[encoded data removed]",
      "text/plain": [
       "<Figure size 432x288 with 1 Axes>"
      ]
     },
     "metadata": {
      "needs_background": "light"
     },
     "output_type": "display_data"
    }
   ],
   "source": [
    "sns.countplot(data = df, x = 'LoanStatus', color = base_color)\n",
    "\n",
    "plt.title('Finished Loans, by Status')\n",
    "\n",
    "plt.xlabel('Loan Status');"
   ]
  },
  {
   "cell_type": "markdown",
   "metadata": {
    "slideshow": {
     "slide_type": "slide"
    }
   },
   "source": [
    "## Ratings\n",
    "\n",
    "Prosper provides us with a rating system of the borrowers on their platform, ranging from 'AA', which is supposed to be the lowest risk, to 'HR', which literally stands for \"High Risk\".\n",
    "\n",
    "We see the number of people on the platform grows as we reach middle ratings, before dropping for the highest risk ratings.\n"
   ]
  },
  {
   "cell_type": "code",
   "execution_count": 12,
   "metadata": {
    "slideshow": {
     "slide_type": "subslide"
    }
   },
   "outputs": [
    {
     "data": {
      "image/png": "[encoded data removed]",
      "text/plain": [
       "<Figure size 432x288 with 1 Axes>"
      ]
     },
     "metadata": {
      "needs_background": "light"
     },
     "output_type": "display_data"
    }
   ],
   "source": [
    "sns.countplot(data = df, x = 'Rating', color = base_color)\n",
    "plt.title('Number of Borrowers, by Rating');"
   ]
  },
  {
   "cell_type": "markdown",
   "metadata": {
    "slideshow": {
     "slide_type": "slide"
    }
   },
   "source": [
    "## Is Rating useful?"
   ]
  },
  {
   "cell_type": "code",
   "execution_count": 13,
   "metadata": {
    "slideshow": {
     "slide_type": "subslide"
    }
   },
   "outputs": [
    {
     "data": {
      "image/png": "[encoded data removed]",
      "text/plain": [
       "<Figure size 1440x720 with 7 Axes>"
      ]
     },
     "metadata": {
      "needs_background": "light"
     },
     "output_type": "display_data"
    }
   ],
   "source": [
    "plt.figure(figsize = [20, 10])\n",
    "\n",
    "i=1\n",
    "for grade in df.Rating.cat.categories:\n",
    "\n",
    "    plt.subplot(2,4,i)\n",
    "    n_points = df[df.Rating == grade].shape[0]\n",
    "\n",
    "\n",
    "    # generate tick mark locations and names\n",
    "    tick_props = np.arange(0, 1.05, 0.05)\n",
    "    tick_names = ['{:0.2f}'.format(v) for v in tick_props]\n",
    "\n",
    "    # create the plot\n",
    "    base_color = sns.color_palette()[0]\n",
    "    sns.countplot(data=df[df.Rating == grade], x = 'LoanStatus', color = base_color)\n",
    "    plt.yticks(tick_props * n_points, tick_names)\n",
    "\n",
    "    plt.ylabel('proportion')\n",
    "    plt.xlabel('Loan Status')\n",
    "    plt.title(grade)\n",
    "    i += 1\n",
    "plt.suptitle('Does Rating Help Us Understand Risk?');"
   ]
  },
  {
   "cell_type": "markdown",
   "metadata": {
    "slideshow": {
     "slide_type": "notes"
    }
   },
   "source": [
    "> Once you're ready to finish your presentation, check your output by using\n",
    "nbconvert to export the notebook and set up a server for the slides. From the\n",
    "terminal or command line, use the following expression:\n",
    "> > `jupyter nbconvert <file_name>.ipynb --to slides --post serve --template output_toggle`\n",
    "\n",
    "> This should open a tab in your web browser where you can scroll through your\n",
    "presentation. Sub-slides can be accessed by pressing 'down' when viewing its parent\n",
    "slide. Make sure you remove all of the quote-formatted guide notes like this one\n",
    "before you finish your presentation!"
   ]
  },
  {
   "cell_type": "code",
   "execution_count": null,
   "metadata": {},
   "outputs": [],
   "source": []
  }
 ],
 "metadata": {
  "celltoolbar": "Slideshow",
  "kernelspec": {
   "display_name": "Python 3",
   "language": "python",
   "name": "python3"
  },
  "language_info": {
   "codemirror_mode": {
    "name": "ipython",
    "version": 3
   },
   "file_extension": ".py",
   "mimetype": "text/x-python",
   "name": "python",
   "nbconvert_exporter": "python",
   "pygments_lexer": "ipython3",
   "version": "3.7.1"
  }
 },
 "nbformat": 4,
 "nbformat_minor": 2
}
